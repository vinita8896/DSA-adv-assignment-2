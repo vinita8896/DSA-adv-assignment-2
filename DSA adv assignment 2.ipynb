{
 "cells": [
  {
   "cell_type": "markdown",
   "id": "6c3ab92b",
   "metadata": {},
   "source": [
    "# Implement Binary Search"
   ]
  },
  {
   "cell_type": "code",
   "execution_count": 1,
   "id": "494d6943",
   "metadata": {},
   "outputs": [
    {
     "name": "stdout",
     "output_type": "stream",
     "text": [
      "Target 5 found at index 4\n"
     ]
    }
   ],
   "source": [
    "def binary_search(arr, target):\n",
    "    left, right = 0, len(arr) - 1\n",
    "\n",
    "    while left <= right:\n",
    "        mid = left + (right - left) // 2  # Calculate the middle index\n",
    "\n",
    "        if arr[mid] == target:\n",
    "            return mid  # Target found at index mid\n",
    "        elif arr[mid] < target:\n",
    "            left = mid + 1  # Search the right half\n",
    "        else:\n",
    "            right = mid - 1  # Search the left half\n",
    "\n",
    "    return -1  # Target not found in the array\n",
    "\n",
    "\n",
    "arr = [1, 2, 3, 4, 5, 6, 7, 8, 9]\n",
    "target = 5\n",
    "\n",
    "result = binary_search(arr, target)\n",
    "\n",
    "if result != -1:\n",
    "    print(f\"Target {target} found at index {result}\")\n",
    "else:\n",
    "    print(f\"Target {target} not found in the array\")\n"
   ]
  },
  {
   "cell_type": "markdown",
   "id": "aa4d2b08",
   "metadata": {},
   "source": [
    "# Implement Merge Sort"
   ]
  },
  {
   "cell_type": "code",
   "execution_count": 2,
   "id": "12572996",
   "metadata": {},
   "outputs": [
    {
     "name": "stdout",
     "output_type": "stream",
     "text": [
      "Original array:\n",
      "12 11 13 5 6 7 \n",
      "\n",
      "Array after Merge Sort:\n",
      "5 6 7 11 12 13 \n"
     ]
    }
   ],
   "source": [
    "def merge_sort(arr):\n",
    "    if len(arr) > 1:\n",
    "        mid = len(arr) // 2  # Find the middle of the array\n",
    "        left_half = arr[:mid]  # Split the array into two halves\n",
    "        right_half = arr[mid:]\n",
    "\n",
    "        # Recursive call to sort each half\n",
    "        merge_sort(left_half)\n",
    "        merge_sort(right_half)\n",
    "\n",
    "        i = j = k = 0\n",
    "\n",
    "        # Merge the two sorted halves into the original array\n",
    "        while i < len(left_half) and j < len(right_half):\n",
    "            if left_half[i] < right_half[j]:\n",
    "                arr[k] = left_half[i]\n",
    "                i += 1\n",
    "            else:\n",
    "                arr[k] = right_half[j]\n",
    "                j += 1\n",
    "            k += 1\n",
    "\n",
    "        # Check for any remaining elements in both halves\n",
    "        while i < len(left_half):\n",
    "            arr[k] = left_half[i]\n",
    "            i += 1\n",
    "            k += 1\n",
    "\n",
    "        while j < len(right_half):\n",
    "            arr[k] = right_half[j]\n",
    "            j += 1\n",
    "            k += 1\n",
    "\n",
    "def print_array(arr):\n",
    "    for element in arr:\n",
    "        print(element, end=\" \")\n",
    "    print()\n",
    "\n",
    "\n",
    "arr = [12, 11, 13, 5, 6, 7]\n",
    "print(\"Original array:\")\n",
    "print_array(arr)\n",
    "\n",
    "merge_sort(arr)\n",
    "print(\"\\nArray after Merge Sort:\")\n",
    "print_array(arr)\n"
   ]
  },
  {
   "cell_type": "markdown",
   "id": "0ac07f3e",
   "metadata": {},
   "source": [
    "# Implement Quick Sort"
   ]
  },
  {
   "cell_type": "code",
   "execution_count": 3,
   "id": "589f5285",
   "metadata": {},
   "outputs": [
    {
     "name": "stdout",
     "output_type": "stream",
     "text": [
      "Original array: [10, 11, 12, 5, 6, 7, 1, 8]\n",
      "Array after Quick Sort: [1, 5, 6, 7, 8, 10, 11, 12]\n"
     ]
    }
   ],
   "source": [
    "def quick_sort(arr):\n",
    "    if len(arr) <= 1:\n",
    "        return arr  # Base case: already sorted\n",
    "\n",
    "    pivot = arr[len(arr) // 2]  # Choose a pivot element\n",
    "    left = [x for x in arr if x < pivot]  # Elements less than pivot\n",
    "    middle = [x for x in arr if x == pivot]  # Elements equal to pivot\n",
    "    right = [x for x in arr if x > pivot]  # Elements greater than pivot\n",
    "\n",
    "    return quick_sort(left) + middle + quick_sort(right)  # Recursively sort left and right, and combine\n",
    "\n",
    "\n",
    "arr = [10, 11, 12, 5, 6, 7, 1, 8]\n",
    "print(\"Original array:\", arr)\n",
    "\n",
    "sorted_array = quick_sort(arr)\n",
    "print(\"Array after Quick Sort:\", sorted_array)\n"
   ]
  },
  {
   "cell_type": "markdown",
   "id": "cc5f7f2d",
   "metadata": {},
   "source": [
    "# Implement Insertion Sort"
   ]
  },
  {
   "cell_type": "code",
   "execution_count": 4,
   "id": "05241e87",
   "metadata": {},
   "outputs": [
    {
     "name": "stdout",
     "output_type": "stream",
     "text": [
      "Original array: [12, 11, 13, 5, 6]\n",
      "Array after Insertion Sort: [5, 6, 11, 12, 13]\n"
     ]
    }
   ],
   "source": [
    "def insertion_sort(arr):\n",
    "    for i in range(1, len(arr)):\n",
    "        key = arr[i]  # The current element to be inserted into the sorted part\n",
    "        j = i - 1  # Index of the last element in the sorted part\n",
    "\n",
    "        # Move elements of arr[0..i-1] that are greater than key\n",
    "        # one position ahead of their current position\n",
    "        while j >= 0 and key < arr[j]:\n",
    "            arr[j + 1] = arr[j]\n",
    "            j -= 1\n",
    "\n",
    "        arr[j + 1] = key\n",
    "\n",
    "\n",
    "arr = [12, 11, 13, 5, 6]\n",
    "print(\"Original array:\", arr)\n",
    "\n",
    "insertion_sort(arr)\n",
    "print(\"Array after Insertion Sort:\", arr)\n"
   ]
  },
  {
   "cell_type": "markdown",
   "id": "2d459399",
   "metadata": {},
   "source": [
    "# Write a program to sort list of strings (similar to that of dictionary)"
   ]
  },
  {
   "cell_type": "code",
   "execution_count": 5,
   "id": "2f586063",
   "metadata": {},
   "outputs": [
    {
     "name": "stdout",
     "output_type": "stream",
     "text": [
      "Original List:\n",
      "['apple', 'Banana', 'cherry', 'date', 'apricot', 'Blueberry']\n",
      "\n",
      "Sorted List (Lexicographic Order):\n",
      "['apple', 'apricot', 'Banana', 'Blueberry', 'cherry', 'date']\n"
     ]
    }
   ],
   "source": [
    "def custom_sort_key(s):\n",
    "    return s.lower()  # Convert strings to lowercase for case-insensitive sorting\n",
    "\n",
    "def sort_strings_lexicographically(string_list):\n",
    "    return sorted(string_list, key=custom_sort_key)\n",
    "\n",
    "\n",
    "string_list = [\"apple\", \"Banana\", \"cherry\", \"date\", \"apricot\", \"Blueberry\"]\n",
    "sorted_list = sort_strings_lexicographically(string_list)\n",
    "\n",
    "print(\"Original List:\")\n",
    "print(string_list)\n",
    "\n",
    "print(\"\\nSorted List (Lexicographic Order):\")\n",
    "print(sorted_list)\n"
   ]
  }
 ],
 "metadata": {
  "kernelspec": {
   "display_name": "Python 3 (ipykernel)",
   "language": "python",
   "name": "python3"
  },
  "language_info": {
   "codemirror_mode": {
    "name": "ipython",
    "version": 3
   },
   "file_extension": ".py",
   "mimetype": "text/x-python",
   "name": "python",
   "nbconvert_exporter": "python",
   "pygments_lexer": "ipython3",
   "version": "3.10.9"
  }
 },
 "nbformat": 4,
 "nbformat_minor": 5
}
